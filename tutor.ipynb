{
 "cells": [
  {
   "cell_type": "markdown",
   "metadata": {},
   "source": [
    "## A quick tutor of `prank`"
   ]
  },
  {
   "cell_type": "markdown",
   "metadata": {},
   "source": [
    "#### First step\n",
    "we need to import the text data and tag it. Thanks to `spaCy`, we can do it really quick and simple."
   ]
  },
  {
   "cell_type": "code",
   "execution_count": 1,
   "metadata": {},
   "outputs": [
    {
     "data": {
      "text/html": [
       "<pre style=\"white-space:pre;overflow-x:auto;line-height:normal;font-family:Menlo,'DejaVu Sans Mono',consolas,'Courier New',monospace\"><span style=\"color: #008000; font-weight: bold\">Start to load docs</span>\n",
       "</pre>\n"
      ],
      "text/plain": [
       "<rich.jupyter.JupyterRenderable at 0x7faa232c4810>"
      ]
     },
     "metadata": {},
     "output_type": "display_data"
    },
    {
     "name": "stderr",
     "output_type": "stream",
     "text": [
      "1it [00:00,  1.88it/s]\n"
     ]
    }
   ],
   "source": [
    "from prank.object import Docs\n",
    "mydocs = Docs('./data/toy.txt')\n",
    "mydocs.initialize()"
   ]
  },
  {
   "cell_type": "markdown",
   "metadata": {},
   "source": [
    "*for the `initialize` method, we can use a keyword `preload` to control the size of text we need, it's useful for some very large data like, `wiki` with more than 6GB text*"
   ]
  },
  {
   "cell_type": "markdown",
   "metadata": {},
   "source": [
    "#### second step\n",
    "we should define a way to search new tuples and patterns from the raw text data, we refer the work [PRDualRank](https://dl.acm.org/doi/10.1145/1935826.1935933) here."
   ]
  },
  {
   "cell_type": "code",
   "execution_count": 2,
   "metadata": {},
   "outputs": [],
   "source": [
    "from prank.search import PRDualRankSearch\n",
    "searcher = PRDualRankSearch(mydocs)"
   ]
  },
  {
   "cell_type": "markdown",
   "metadata": {},
   "source": [
    "Then, we can start to search(bootstrapping) new tuples and patterns, based on the given seed tuples. We use the seed tuples from the relationship `multiply two`"
   ]
  },
  {
   "cell_type": "code",
   "execution_count": 15,
   "metadata": {},
   "outputs": [
    {
     "data": {
      "text/html": [
       "<pre style=\"white-space:pre;overflow-x:auto;line-height:normal;font-family:Menlo,'DejaVu Sans Mono',consolas,'Courier New',monospace\"><span style=\"color: #808000; font-weight: bold\">Found </span><span style=\"color: #808000; font-weight: bold\">3</span><span style=\"color: #808000; font-weight: bold\"> patterns</span>\n",
       "</pre>\n"
      ],
      "text/plain": [
       "<rich.jupyter.JupyterRenderable at 0x7fa9fcba26d0>"
      ]
     },
     "metadata": {},
     "output_type": "display_data"
    },
    {
     "data": {
      "text/html": [
       "<pre style=\"white-space:pre;overflow-x:auto;line-height:normal;font-family:Menlo,'DejaVu Sans Mono',consolas,'Courier New',monospace\"><span style=\"color: #808000; font-weight: bold\">Found </span><span style=\"color: #808000; font-weight: bold\">49</span><span style=\"color: #808000; font-weight: bold\"> tuples</span>\n",
       "</pre>\n"
      ],
      "text/plain": [
       "<rich.jupyter.JupyterRenderable at 0x7fa9fc0b8b90>"
      ]
     },
     "metadata": {},
     "output_type": "display_data"
    }
   ],
   "source": [
    "from prank.world import *\n",
    "from prank.object import Tuple, Pattern\n",
    "\n",
    "seeds = set([\n",
    "    Tuple(\"1\", \"2\", seed=True), Tuple('2', '4', seed=True), \n",
    "    Tuple(\"3\", '6', seed=True), Tuple('4', '8', seed=True)\n",
    "])\n",
    "# Note that, Tuple and Pattern will automatically record data everytime we instantiate.\n",
    "# We can use Tuple.tuples() or Pattern.patterns() to access them\n",
    "\n",
    "propagate_time = 20\n",
    "for _ in range(propagate_time):\n",
    "    searcher.fromTuple2Pattern(Tuple.tuples())\n",
    "    searcher.fromPattern2Tuple(Pattern.patterns(), Tuple.tuples())\n",
    "print(ystr(f\"Found {Pattern.pattern_num()} patterns\"))\n",
    "print(ystr(f\"Found {Tuple.tuple_num()} tuples\"))"
   ]
  },
  {
   "cell_type": "markdown",
   "metadata": {},
   "source": [
    "Let's take a look about those tuples and patterns"
   ]
  },
  {
   "cell_type": "code",
   "execution_count": 16,
   "metadata": {},
   "outputs": [
    {
     "data": {
      "text/html": [
       "<pre style=\"white-space:pre;overflow-x:auto;line-height:normal;font-family:Menlo,'DejaVu Sans Mono',consolas,'Courier New',monospace\"><span style=\"color: #008000; font-weight: bold\">Pattern examples:</span>\n",
       "<span style=\"font-weight: bold\">[&lt;</span><span style=\"color: #ff00ff; font-weight: bold\">P</span><span style=\"font-weight: bold\">&gt;</span>  #E plus ... is #E , <span style=\"font-weight: bold\">&lt;</span><span style=\"color: #ff00ff; font-weight: bold\">P</span><span style=\"font-weight: bold\">&gt;</span>  #E multiply ... is #E , <span style=\"font-weight: bold\">&lt;</span><span style=\"color: #ff00ff; font-weight: bold\">P</span><span style=\"font-weight: bold\">&gt;</span>  #E square ... is #E <span style=\"font-weight: bold\">]</span>\n",
       "</pre>\n"
      ],
      "text/plain": [
       "<rich.jupyter.JupyterRenderable at 0x7fa9fcbb37d0>"
      ]
     },
     "metadata": {},
     "output_type": "display_data"
    },
    {
     "data": {
      "text/html": [
       "<pre style=\"white-space:pre;overflow-x:auto;line-height:normal;font-family:Menlo,'DejaVu Sans Mono',consolas,'Courier New',monospace\"><span style=\"color: #008000; font-weight: bold\">Tuple examples:</span>\n",
       "<span style=\"font-weight: bold\">[&lt;</span><span style=\"color: #ff00ff; font-weight: bold\">T</span><span style=\"font-weight: bold\">&gt;</span> <span style=\"font-weight: bold\">(</span><span style=\"color: #000080; font-weight: bold\">7</span>, <span style=\"color: #000080; font-weight: bold\">8</span><span style=\"font-weight: bold\">)</span>, <span style=\"font-weight: bold\">&lt;</span><span style=\"color: #ff00ff; font-weight: bold\">T</span><span style=\"font-weight: bold\">&gt;</span> <span style=\"font-weight: bold\">(</span><span style=\"color: #000080; font-weight: bold\">4</span>, <span style=\"color: #000080; font-weight: bold\">16</span><span style=\"font-weight: bold\">)</span>, <span style=\"font-weight: bold\">&lt;</span><span style=\"color: #ff00ff; font-weight: bold\">T</span><span style=\"font-weight: bold\">&gt;</span> <span style=\"font-weight: bold\">(</span><span style=\"color: #000080; font-weight: bold\">5</span>, <span style=\"color: #000080; font-weight: bold\">10</span><span style=\"font-weight: bold\">)</span>, <span style=\"font-weight: bold\">&lt;</span><span style=\"color: #ff00ff; font-weight: bold\">T</span><span style=\"font-weight: bold\">&gt;</span> <span style=\"font-weight: bold\">(</span><span style=\"color: #000080; font-weight: bold\">8</span>, <span style=\"color: #000080; font-weight: bold\">9</span><span style=\"font-weight: bold\">)</span>, <span style=\"font-weight: bold\">&lt;</span><span style=\"color: #ff00ff; font-weight: bold\">T</span><span style=\"font-weight: bold\">&gt;</span> <span style=\"font-weight: bold\">(</span><span style=\"color: #000080; font-weight: bold\">7</span>, <span style=\"color: #000080; font-weight: bold\">49</span><span style=\"font-weight: bold\">)]</span>\n",
       "</pre>\n"
      ],
      "text/plain": [
       "<rich.jupyter.JupyterRenderable at 0x7fa9fc16bc50>"
      ]
     },
     "metadata": {},
     "output_type": "display_data"
    }
   ],
   "source": [
    "print(gstr(\"Pattern examples:\"), Pattern.patterns())\n",
    "print(gstr(\"Tuple examples:\"), Tuple.tuples()[10:15])"
   ]
  },
  {
   "cell_type": "markdown",
   "metadata": {},
   "source": [
    "So far, we already have a bunch of tuples and patterns that maybe revelant to the relation we interest. What we need to do next is to rank those tuples and patterns"
   ]
  },
  {
   "cell_type": "markdown",
   "metadata": {},
   "source": [
    "#### Third step\n",
    "Infer the precision and recall of tuples and patterns, respectively"
   ]
  },
  {
   "cell_type": "code",
   "execution_count": 17,
   "metadata": {},
   "outputs": [],
   "source": [
    "from prank.inference import PRDualRank\n",
    "inferor = PRDualRank()\n",
    "\n",
    "tuples = Tuple.remainTopK(20)\n",
    "\n",
    "relation = {\n",
    "    tup : tup.relationship for tup in tuples\n",
    "}\n",
    "\n",
    "results = inferor.infer(\n",
    "    Tuple.tuples(),\n",
    "    Pattern.patterns(),\n",
    "    relation,\n",
    "    seed_tuples=list(seeds),\n",
    "    max_iter=10\n",
    ")"
   ]
  },
  {
   "cell_type": "code",
   "execution_count": 19,
   "metadata": {},
   "outputs": [
    {
     "data": {
      "text/plain": [
       "['tuple precision', 'pattern precision', 'tuple recall', 'pattern recall']"
      ]
     },
     "execution_count": 19,
     "metadata": {},
     "output_type": "execute_result"
    }
   ],
   "source": [
    "list(results)"
   ]
  },
  {
   "cell_type": "markdown",
   "metadata": {},
   "source": [
    "#### The last step\n",
    "Using the precision and recall to rank tuples, patterns, respectively.\n",
    "Here we use f1-score to balance both metrics."
   ]
  },
  {
   "cell_type": "code",
   "execution_count": 18,
   "metadata": {},
   "outputs": [
    {
     "data": {
      "text/html": [
       "<pre style=\"white-space:pre;overflow-x:auto;line-height:normal;font-family:Menlo,'DejaVu Sans Mono',consolas,'Courier New',monospace\"><span style=\"color: #008000; font-weight: bold\">Top-</span><span style=\"color: #008000; font-weight: bold\">8</span><span style=\"color: #008000; font-weight: bold\"> tuples:</span>\n",
       "<span style=\"font-weight: bold\">[</span>\n",
       "    <span style=\"font-weight: bold\">&lt;</span><span style=\"color: #ff00ff; font-weight: bold\">T</span><span style=\"font-weight: bold\">&gt;</span> <span style=\"font-weight: bold\">(</span><span style=\"color: #000080; font-weight: bold\">15</span>, <span style=\"color: #000080; font-weight: bold\">225</span><span style=\"font-weight: bold\">)</span>,\n",
       "    <span style=\"font-weight: bold\">&lt;</span><span style=\"color: #ff00ff; font-weight: bold\">T</span><span style=\"font-weight: bold\">&gt;</span> <span style=\"font-weight: bold\">(</span><span style=\"color: #000080; font-weight: bold\">15</span>, <span style=\"color: #000080; font-weight: bold\">16</span><span style=\"font-weight: bold\">)</span>,\n",
       "    <span style=\"font-weight: bold\">&lt;</span><span style=\"color: #ff00ff; font-weight: bold\">T</span><span style=\"font-weight: bold\">&gt;</span> <span style=\"font-weight: bold\">(</span><span style=\"color: #000080; font-weight: bold\">3</span>, <span style=\"color: #000080; font-weight: bold\">6</span><span style=\"font-weight: bold\">)</span>,\n",
       "    <span style=\"font-weight: bold\">&lt;</span><span style=\"color: #ff00ff; font-weight: bold\">T</span><span style=\"font-weight: bold\">&gt;</span> <span style=\"font-weight: bold\">(</span><span style=\"color: #000080; font-weight: bold\">4</span>, <span style=\"color: #000080; font-weight: bold\">16</span><span style=\"font-weight: bold\">)</span>,\n",
       "    <span style=\"font-weight: bold\">&lt;</span><span style=\"color: #ff00ff; font-weight: bold\">T</span><span style=\"font-weight: bold\">&gt;</span> <span style=\"font-weight: bold\">(</span><span style=\"color: #000080; font-weight: bold\">17</span>, <span style=\"color: #000080; font-weight: bold\">34</span><span style=\"font-weight: bold\">)</span>,\n",
       "    <span style=\"font-weight: bold\">&lt;</span><span style=\"color: #ff00ff; font-weight: bold\">T</span><span style=\"font-weight: bold\">&gt;</span> <span style=\"font-weight: bold\">(</span><span style=\"color: #000080; font-weight: bold\">4</span>, <span style=\"color: #000080; font-weight: bold\">8</span><span style=\"font-weight: bold\">)</span>,\n",
       "    <span style=\"font-weight: bold\">&lt;</span><span style=\"color: #ff00ff; font-weight: bold\">T</span><span style=\"font-weight: bold\">&gt;</span> <span style=\"font-weight: bold\">(</span><span style=\"color: #000080; font-weight: bold\">24</span>, <span style=\"color: #000080; font-weight: bold\">48</span><span style=\"font-weight: bold\">)</span>,\n",
       "    <span style=\"font-weight: bold\">&lt;</span><span style=\"color: #ff00ff; font-weight: bold\">T</span><span style=\"font-weight: bold\">&gt;</span> <span style=\"font-weight: bold\">(</span><span style=\"color: #000080; font-weight: bold\">15</span>, <span style=\"color: #000080; font-weight: bold\">30</span><span style=\"font-weight: bold\">)</span>,\n",
       "<span style=\"font-weight: bold\">]</span>\n",
       "</pre>\n"
      ],
      "text/plain": [
       "<rich.jupyter.JupyterRenderable at 0x7fa9fcbd4d50>"
      ]
     },
     "metadata": {},
     "output_type": "display_data"
    },
    {
     "data": {
      "text/html": [
       "<pre style=\"white-space:pre;overflow-x:auto;line-height:normal;font-family:Menlo,'DejaVu Sans Mono',consolas,'Courier New',monospace\"><span style=\"color: #008000; font-weight: bold\">Top-</span><span style=\"color: #008000; font-weight: bold\">2</span><span style=\"color: #008000; font-weight: bold\"> patterns:</span>\n",
       "<span style=\"font-weight: bold\">[&lt;</span><span style=\"color: #ff00ff; font-weight: bold\">P</span><span style=\"font-weight: bold\">&gt;</span>  #E square ... is #E , <span style=\"font-weight: bold\">&lt;</span><span style=\"color: #ff00ff; font-weight: bold\">P</span><span style=\"font-weight: bold\">&gt;</span>  #E multiply ... is #E <span style=\"font-weight: bold\">]</span>\n",
       "</pre>\n"
      ],
      "text/plain": [
       "<rich.jupyter.JupyterRenderable at 0x7faa21c77790>"
      ]
     },
     "metadata": {},
     "output_type": "display_data"
    }
   ],
   "source": [
    "from prank.rank import f1_score_rank\n",
    "top_t, top_p = f1_score_rank(results, inferor)\n",
    "print(gstr(\"Top-8 tuples:\"), top_t[-8:])\n",
    "print(gstr(\"Top-2 patterns:\"), top_p[-2:])"
   ]
  },
  {
   "cell_type": "markdown",
   "metadata": {},
   "source": [
    "Finally, we can see the results.\n",
    "The result is intuitively reasonable. By our inference, we can find some similar tuples from the seed tuples we have, such as `(24, 48)`, `(15,30)`.\n",
    "But the top tuples still hacv wrong answer, which is easy to understand.\n",
    "Our seed tuples is from the relation `multiply two`, however there are some seed tuples also satisfy other relationship.\n",
    "* `(2,4)` also satisfy `square` relationship\n",
    "* `(1,2)` also satisfy `plus one` relationship\n",
    "That's also the diffcult of tuple extraction"
   ]
  }
 ],
 "metadata": {
  "kernelspec": {
   "display_name": "Python 3.7.4 64-bit",
   "language": "python",
   "name": "python37464bitadc82cd4163047cd98c027a26ed251c1"
  },
  "language_info": {
   "codemirror_mode": {
    "name": "ipython",
    "version": 3
   },
   "file_extension": ".py",
   "mimetype": "text/x-python",
   "name": "python",
   "nbconvert_exporter": "python",
   "pygments_lexer": "ipython3",
   "version": "3.7.4"
  }
 },
 "nbformat": 4,
 "nbformat_minor": 4
}
